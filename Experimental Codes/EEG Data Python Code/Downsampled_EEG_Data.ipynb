{
 "cells": [
  {
   "cell_type": "markdown",
   "id": "4a8fe020",
   "metadata": {},
   "source": [
    "# Import Libraries"
   ]
  },
  {
   "cell_type": "code",
   "execution_count": 2,
   "id": "51dc4fb3",
   "metadata": {
    "scrolled": true
   },
   "outputs": [
    {
     "name": "stdout",
     "output_type": "stream",
     "text": [
      "\n",
      "Downsampled data saved to Downsampled_EEG_Data.xlsx\n"
     ]
    }
   ],
   "source": [
    "import pandas as pd"
   ]
  },
  {
   "cell_type": "markdown",
   "id": "0c1812a5",
   "metadata": {},
   "source": [
    "# Load the CSV file into a DataFrame"
   ]
  },
  {
   "cell_type": "code",
   "execution_count": null,
   "id": "f6da4225",
   "metadata": {},
   "outputs": [],
   "source": [
    "# Load the CSV file into a DataFrame\n",
    "file_path = \"Manipulated_EEG_Data.csv\"\n",
    "df = pd.read_csv(file_path)"
   ]
  },
  {
   "cell_type": "markdown",
   "id": "fa422321",
   "metadata": {},
   "source": [
    "# Downsample"
   ]
  },
  {
   "cell_type": "code",
   "execution_count": null,
   "id": "2aec01b4",
   "metadata": {},
   "outputs": [],
   "source": [
    "downsampled_df = df.groupby('substate', group_keys=False).apply(lambda x: x.sample(frac=0.001))"
   ]
  },
  {
   "cell_type": "markdown",
   "id": "1ad5acb9",
   "metadata": {},
   "source": [
    "# Saving the downsampled DataFrame"
   ]
  },
  {
   "cell_type": "code",
   "execution_count": null,
   "id": "2f3dace7",
   "metadata": {},
   "outputs": [],
   "source": [
    "# Save the downsampled DataFrame to a new Excel file (xlsx)\n",
    "downsampled_xlsx_file_path = \"Downsampled_EEG_Data.xlsx\"\n",
    "downsampled_df.to_excel(downsampled_xlsx_file_path, index=False)\n",
    "\n",
    "print(f\"\\nDownsampled data saved to {downsampled_xlsx_file_path}\")"
   ]
  }
 ],
 "metadata": {
  "kernelspec": {
   "display_name": "Python 3 (ipykernel)",
   "language": "python",
   "name": "python3"
  },
  "language_info": {
   "codemirror_mode": {
    "name": "ipython",
    "version": 3
   },
   "file_extension": ".py",
   "mimetype": "text/x-python",
   "name": "python",
   "nbconvert_exporter": "python",
   "pygments_lexer": "ipython3",
   "version": "3.9.15"
  }
 },
 "nbformat": 4,
 "nbformat_minor": 5
}
